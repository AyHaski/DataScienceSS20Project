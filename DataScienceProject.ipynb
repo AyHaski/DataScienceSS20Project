{
  "nbformat": 4,
  "nbformat_minor": 0,
  "metadata": {
    "colab": {
      "name": "DataScienceProject.ipynb",
      "provenance": [],
      "collapsed_sections": [
        "AUjmY0-iDfAO",
        "mUoynGufCsat"
      ],
      "toc_visible": true,
      "machine_shape": "hm",
      "include_colab_link": true
    },
    "kernelspec": {
      "name": "python3",
      "display_name": "Python 3"
    },
    "accelerator": "GPU"
  },
  "cells": [
    {
      "cell_type": "markdown",
      "metadata": {
        "id": "view-in-github",
        "colab_type": "text"
      },
      "source": [
        "<a href=\"https://colab.research.google.com/github/AyHaski/DataScienceSS20Project/blob/master/DataScienceProject.ipynb\" target=\"_parent\"><img src=\"https://colab.research.google.com/assets/colab-badge.svg\" alt=\"Open In Colab\"/></a>"
      ]
    },
    {
      "cell_type": "markdown",
      "metadata": {
        "id": "EP3mgtE3XZp7",
        "colab_type": "text"
      },
      "source": [
        "# Real or Not? NLP with Disaster Tweets\n",
        "Dieses Notebook wurde für das Abschluss Projekt in Data Science für die Hochschule Offenburg erstellt. \n",
        "Kooperationspartner: Jonas Zimmer.\n",
        "\n",
        "Kaggel ID: 5225680\n",
        "\n",
        "Kaggel Username: ayhaski \n",
        "\n",
        "Beste Leaderboard Position:  275\n",
        "\n",
        "\n",
        "\n",
        "Notebooks die geholfen haben:\n",
        "\n",
        "https://www.kaggle.com/gunesevitan/nlp-with-disaster-tweets-eda-cleaning-and-bert\n",
        "\n",
        "https://www.kaggle.com/parulpandey/getting-started-with-nlp-a-general-intro\n",
        "\n",
        "https://www.kaggle.com/vbmokin/nlp-eda-bag-of-words-tf-idf-glove-bert\n",
        "\n",
        "https://www.kaggle.com/parthplc/word2vec-tutorial\n",
        "\n"
      ]
    },
    {
      "cell_type": "markdown",
      "metadata": {
        "id": "IWYB7wAb6Hes",
        "colab_type": "text"
      },
      "source": [
        "# Vorbereitung"
      ]
    },
    {
      "cell_type": "markdown",
      "metadata": {
        "id": "as0s2UlL5QVC",
        "colab_type": "text"
      },
      "source": [
        "## Package Installs"
      ]
    },
    {
      "cell_type": "code",
      "metadata": {
        "id": "ksSPMUf-MYWy",
        "colab_type": "code",
        "colab": {}
      },
      "source": [
        "#!git clone https://github.com/AyHaski/DataScienceSS20Project\n",
        "!pip install tensorflow_hub\n",
        "!pip install bert-for-tf2\n",
        "!pip install sentencepiece\n",
        "!pip install -q tf-nightly\n",
        "!pip install --ignore-installed tf-nightly\n",
        "!pip install plotly\n",
        "!pip install xgboost "
      ],
      "execution_count": null,
      "outputs": []
    },
    {
      "cell_type": "markdown",
      "metadata": {
        "id": "0WssSyzF5sZe",
        "colab_type": "text"
      },
      "source": [
        "Damit die Packages richtig verwendet werden muss die Runtime zuvor einmal neugestartet werden."
      ]
    },
    {
      "cell_type": "code",
      "metadata": {
        "id": "E45J6eIIn8CK",
        "colab_type": "code",
        "colab": {}
      },
      "source": [
        "#Restart runtime because of pip installs\n",
        "import os\n",
        "\n",
        "def restart_runtime():\n",
        "  os.kill(os.getpid(), 9)\n",
        "\n",
        "restart_runtime()"
      ],
      "execution_count": null,
      "outputs": []
    },
    {
      "cell_type": "code",
      "metadata": {
        "id": "RWWJ9kdSdm3Z",
        "colab_type": "code",
        "colab": {}
      },
      "source": [
        "#from google.colab import drive\n",
        "#drive.mount('/content/drive')"
      ],
      "execution_count": null,
      "outputs": []
    },
    {
      "cell_type": "markdown",
      "metadata": {
        "id": "SbdEYV7A6B9L",
        "colab_type": "text"
      },
      "source": [
        "## Imports der Packages"
      ]
    },
    {
      "cell_type": "code",
      "metadata": {
        "id": "PGPGU9CSKjtJ",
        "colab_type": "code",
        "colab": {}
      },
      "source": [
        "#imports\n",
        "import nltk\n",
        "nltk.download(\"popular\")\n",
        "import matplotlib.pyplot as plt\n",
        "import numpy as np\n",
        "import pandas as pd\n",
        "import plotly.express as px\n",
        "from nltk.corpus import stopwords\n",
        "import matplotlib as mpl\n",
        "import re\n",
        "from sklearn.feature_extraction.text import TfidfVectorizer\n",
        "from sklearn.naive_bayes import MultinomialNB\n",
        "from sklearn.linear_model import LogisticRegression\n",
        "from sklearn import model_selection\n",
        "from sklearn.model_selection import train_test_split\n",
        "from sklearn.metrics import classification_report\n",
        "import xgboost as xgb\n",
        "import tensorflow_hub as hub\n",
        "import tensorflow as tf\n",
        "import bert\n",
        "from tensorflow.keras.models import Model\n",
        "import math\n",
        "\n",
        "mpl.style.use(\"seaborn\")\n",
        "STOP = stopwords.words('english')"
      ],
      "execution_count": 1,
      "outputs": []
    },
    {
      "cell_type": "code",
      "metadata": {
        "id": "6BxXhc0SKdec",
        "colab_type": "code",
        "colab": {}
      },
      "source": [
        "#train = pd.read_csv('/content/DataScienceSS20Project/nlp-getting-started/train.csv', dtype={'id': np.int16, 'target': np.int8})\n",
        "#test = pd.read_csv('/content/DataScienceSS20Project/nlp-getting-started/test.csv', dtype={'id': np.int16})\n",
        "train = pd.read_csv('train.csv', dtype={'id': np.int16, 'target': np.int8})\n",
        "test = pd.read_csv('test.csv', dtype={'id': np.int16})"
      ],
      "execution_count": 3,
      "outputs": []
    },
    {
      "cell_type": "markdown",
      "metadata": {
        "id": "ZMshZSvJVCxm",
        "colab_type": "text"
      },
      "source": [
        "# Data Analysis"
      ]
    },
    {
      "cell_type": "markdown",
      "metadata": {
        "id": "-dXzXyYB6yKj",
        "colab_type": "text"
      },
      "source": [
        "Zu Beginn werden die Train und Test Daten betrachtet, um sich einen Bild der Daten machen zu können. Dabei wird zuerst die Größe und der Zustand der Daten angeschaut"
      ]
    },
    {
      "cell_type": "markdown",
      "metadata": {
        "id": "OTroGKljDYOw",
        "colab_type": "text"
      },
      "source": [
        "## Größe der Daten"
      ]
    },
    {
      "cell_type": "code",
      "metadata": {
        "id": "aKrQXz63LCjY",
        "colab_type": "code",
        "colab": {
          "base_uri": "https://localhost:8080/",
          "height": 204
        },
        "outputId": "85fd1473-6e18-4723-f540-f12c9ba7a899"
      },
      "source": [
        "train.head()"
      ],
      "execution_count": null,
      "outputs": [
        {
          "output_type": "execute_result",
          "data": {
            "text/html": [
              "<div>\n",
              "<style scoped>\n",
              "    .dataframe tbody tr th:only-of-type {\n",
              "        vertical-align: middle;\n",
              "    }\n",
              "\n",
              "    .dataframe tbody tr th {\n",
              "        vertical-align: top;\n",
              "    }\n",
              "\n",
              "    .dataframe thead th {\n",
              "        text-align: right;\n",
              "    }\n",
              "</style>\n",
              "<table border=\"1\" class=\"dataframe\">\n",
              "  <thead>\n",
              "    <tr style=\"text-align: right;\">\n",
              "      <th></th>\n",
              "      <th>id</th>\n",
              "      <th>keyword</th>\n",
              "      <th>location</th>\n",
              "      <th>text</th>\n",
              "      <th>target</th>\n",
              "    </tr>\n",
              "  </thead>\n",
              "  <tbody>\n",
              "    <tr>\n",
              "      <th>0</th>\n",
              "      <td>1</td>\n",
              "      <td>NaN</td>\n",
              "      <td>NaN</td>\n",
              "      <td>Our Deeds are the Reason of this #earthquake M...</td>\n",
              "      <td>1</td>\n",
              "    </tr>\n",
              "    <tr>\n",
              "      <th>1</th>\n",
              "      <td>4</td>\n",
              "      <td>NaN</td>\n",
              "      <td>NaN</td>\n",
              "      <td>Forest fire near La Ronge Sask. Canada</td>\n",
              "      <td>1</td>\n",
              "    </tr>\n",
              "    <tr>\n",
              "      <th>2</th>\n",
              "      <td>5</td>\n",
              "      <td>NaN</td>\n",
              "      <td>NaN</td>\n",
              "      <td>All residents asked to 'shelter in place' are ...</td>\n",
              "      <td>1</td>\n",
              "    </tr>\n",
              "    <tr>\n",
              "      <th>3</th>\n",
              "      <td>6</td>\n",
              "      <td>NaN</td>\n",
              "      <td>NaN</td>\n",
              "      <td>13,000 people receive #wildfires evacuation or...</td>\n",
              "      <td>1</td>\n",
              "    </tr>\n",
              "    <tr>\n",
              "      <th>4</th>\n",
              "      <td>7</td>\n",
              "      <td>NaN</td>\n",
              "      <td>NaN</td>\n",
              "      <td>Just got sent this photo from Ruby #Alaska as ...</td>\n",
              "      <td>1</td>\n",
              "    </tr>\n",
              "  </tbody>\n",
              "</table>\n",
              "</div>"
            ],
            "text/plain": [
              "   id keyword  ...                                               text target\n",
              "0   1     NaN  ...  Our Deeds are the Reason of this #earthquake M...      1\n",
              "1   4     NaN  ...             Forest fire near La Ronge Sask. Canada      1\n",
              "2   5     NaN  ...  All residents asked to 'shelter in place' are ...      1\n",
              "3   6     NaN  ...  13,000 people receive #wildfires evacuation or...      1\n",
              "4   7     NaN  ...  Just got sent this photo from Ruby #Alaska as ...      1\n",
              "\n",
              "[5 rows x 5 columns]"
            ]
          },
          "metadata": {
            "tags": []
          },
          "execution_count": 4
        }
      ]
    },
    {
      "cell_type": "code",
      "metadata": {
        "id": "fQOeTRIpLGi_",
        "colab_type": "code",
        "colab": {
          "base_uri": "https://localhost:8080/",
          "height": 204
        },
        "outputId": "953785d0-c1c2-4052-abf4-486a67895aa8"
      },
      "source": [
        "test.head()"
      ],
      "execution_count": null,
      "outputs": [
        {
          "output_type": "execute_result",
          "data": {
            "text/html": [
              "<div>\n",
              "<style scoped>\n",
              "    .dataframe tbody tr th:only-of-type {\n",
              "        vertical-align: middle;\n",
              "    }\n",
              "\n",
              "    .dataframe tbody tr th {\n",
              "        vertical-align: top;\n",
              "    }\n",
              "\n",
              "    .dataframe thead th {\n",
              "        text-align: right;\n",
              "    }\n",
              "</style>\n",
              "<table border=\"1\" class=\"dataframe\">\n",
              "  <thead>\n",
              "    <tr style=\"text-align: right;\">\n",
              "      <th></th>\n",
              "      <th>id</th>\n",
              "      <th>keyword</th>\n",
              "      <th>location</th>\n",
              "      <th>text</th>\n",
              "    </tr>\n",
              "  </thead>\n",
              "  <tbody>\n",
              "    <tr>\n",
              "      <th>0</th>\n",
              "      <td>0</td>\n",
              "      <td>NaN</td>\n",
              "      <td>NaN</td>\n",
              "      <td>Just happened a terrible car crash</td>\n",
              "    </tr>\n",
              "    <tr>\n",
              "      <th>1</th>\n",
              "      <td>2</td>\n",
              "      <td>NaN</td>\n",
              "      <td>NaN</td>\n",
              "      <td>Heard about #earthquake is different cities, s...</td>\n",
              "    </tr>\n",
              "    <tr>\n",
              "      <th>2</th>\n",
              "      <td>3</td>\n",
              "      <td>NaN</td>\n",
              "      <td>NaN</td>\n",
              "      <td>there is a forest fire at spot pond, geese are...</td>\n",
              "    </tr>\n",
              "    <tr>\n",
              "      <th>3</th>\n",
              "      <td>9</td>\n",
              "      <td>NaN</td>\n",
              "      <td>NaN</td>\n",
              "      <td>Apocalypse lighting. #Spokane #wildfires</td>\n",
              "    </tr>\n",
              "    <tr>\n",
              "      <th>4</th>\n",
              "      <td>11</td>\n",
              "      <td>NaN</td>\n",
              "      <td>NaN</td>\n",
              "      <td>Typhoon Soudelor kills 28 in China and Taiwan</td>\n",
              "    </tr>\n",
              "  </tbody>\n",
              "</table>\n",
              "</div>"
            ],
            "text/plain": [
              "   id keyword location                                               text\n",
              "0   0     NaN      NaN                 Just happened a terrible car crash\n",
              "1   2     NaN      NaN  Heard about #earthquake is different cities, s...\n",
              "2   3     NaN      NaN  there is a forest fire at spot pond, geese are...\n",
              "3   9     NaN      NaN           Apocalypse lighting. #Spokane #wildfires\n",
              "4  11     NaN      NaN      Typhoon Soudelor kills 28 in China and Taiwan"
            ]
          },
          "metadata": {
            "tags": []
          },
          "execution_count": 5
        }
      ]
    },
    {
      "cell_type": "code",
      "metadata": {
        "id": "S-wXK6Gu_UYU",
        "colab_type": "code",
        "colab": {
          "base_uri": "https://localhost:8080/",
          "height": 357
        },
        "outputId": "d71a4d2d-4374-4a7b-d81e-65ca71a03aa1"
      },
      "source": [
        "print (\"Train data length: \", train.shape)\n",
        "print (\"Test data length: \", test.shape)\n",
        "print (\"\\n\\nNull values in Train data:\\n\\n\", train.isnull().sum())\n",
        "print (\"\\nNull values in Test data:\\n\\n\", test.isnull().sum())"
      ],
      "execution_count": null,
      "outputs": [
        {
          "output_type": "stream",
          "text": [
            "Train data length:  (7613, 5)\n",
            "Test data length:  (3263, 4)\n",
            "\n",
            "\n",
            "Null values in Train data:\n",
            "\n",
            " id             0\n",
            "keyword       61\n",
            "location    2533\n",
            "text           0\n",
            "target         0\n",
            "dtype: int64\n",
            "\n",
            "Null values in Test data:\n",
            "\n",
            " id             0\n",
            "keyword       26\n",
            "location    1105\n",
            "text           0\n",
            "dtype: int64\n"
          ],
          "name": "stdout"
        }
      ]
    },
    {
      "cell_type": "code",
      "metadata": {
        "id": "E6Ricd0lTFDf",
        "colab_type": "code",
        "colab": {
          "base_uri": "https://localhost:8080/",
          "height": 374
        },
        "outputId": "0c159585-b318-4925-e2f8-e47bec5fc2e8"
      },
      "source": [
        "dist_tweets=train[train['target']==1]\n",
        "ndist_tweets=train[train['target']==0]\n",
        "print (\"Disaster Tweets in Train data length: \", dist_tweets.shape)\n",
        "print (\"No Disaster Tweets in Train data length: \", ndist_tweets.shape)\n",
        "print (\"\\n\\nNull values in disaster Tweets:\\n\\n\", dist_tweets.isnull().sum())\n",
        "print (\"\\nNull values in not disaster Tweets:\\n\\n\", ndist_tweets.isnull().sum())"
      ],
      "execution_count": null,
      "outputs": [
        {
          "output_type": "stream",
          "text": [
            "Disaster Tweets in Train data length:  (3271, 5)\n",
            "No Disaster Tweets in Train data length:  (4342, 5)\n",
            "\n",
            "\n",
            "Null values:\n",
            "\n",
            " id             0\n",
            "keyword       42\n",
            "location    1075\n",
            "text           0\n",
            "target         0\n",
            "dtype: int64\n",
            "\n",
            "Null values:\n",
            "\n",
            " id             0\n",
            "keyword       19\n",
            "location    1458\n",
            "text           0\n",
            "target         0\n",
            "dtype: int64\n"
          ],
          "name": "stdout"
        }
      ]
    },
    {
      "cell_type": "markdown",
      "metadata": {
        "id": "b-Vdm0vY68ME",
        "colab_type": "text"
      },
      "source": [
        "Wie man erkennen kann sind die Spalten 'id', 'keyword', 'location' und 'text' vorhanden. Bei einem Drittel der Datensätzen exisitiert kein Einträge in der location Spalte. Auch wenn man die Trainingsdaten in disaster und nicht disaster Tweets aufteilt bleibt der Anteil an Nullwerten bei ca. einem Drittel.\n"
      ]
    },
    {
      "cell_type": "markdown",
      "metadata": {
        "id": "AUjmY0-iDfAO",
        "colab_type": "text"
      },
      "source": [
        "## Keywords und Location\n",
        "\n",
        "Betrachtete man die vorhanden keywords, sind die Wörter 'fatalities', 'armageddeon' und 'deluge' am meisten vorhanden. Bei den Location sind die am häufigsten vorkommenden Werte 'USA', 'New York' und ' United States'."
      ]
    },
    {
      "cell_type": "code",
      "metadata": {
        "id": "Fa1nBAo4WUEG",
        "colab_type": "code",
        "colab": {
          "base_uri": "https://localhost:8080/",
          "height": 537
        },
        "outputId": "521f43fc-c210-4b17-feca-6d7755073943"
      },
      "source": [
        "keywords=train['keyword'].value_counts()\n",
        "fig, ax = plt.subplots(figsize =(16, 9))\n",
        "\n",
        "keys = list(keywords.keys()[:40]) \n",
        "values = list(keywords[:40])\n",
        "# Horizontal Bar Plot \n",
        "ax.barh(keys,values) \n",
        "# Show Plot \n",
        "plt.show() "
      ],
      "execution_count": null,
      "outputs": [
        {
          "output_type": "display_data",
          "data": {
            "image/png": "[encoded data removed]",
            "text/plain": [
              "<Figure size 1152x648 with 1 Axes>"
            ]
          },
          "metadata": {
            "tags": []
          }
        }
      ]
    },
    {
      "cell_type": "code",
      "metadata": {
        "id": "U8VzFZU7WUG9",
        "colab_type": "code",
        "colab": {
          "base_uri": "https://localhost:8080/",
          "height": 537
        },
        "outputId": "3ef91b11-52d5-4536-de21-cea4118fedf7"
      },
      "source": [
        "locations=train['location'].value_counts()\n",
        "fig, ax = plt.subplots(figsize =(16, 9))\n",
        "\n",
        "keys = list(locations.keys()[:40]) \n",
        "values = list(locations[:40])\n",
        "# Horizontal Bar Plot \n",
        "ax.barh(keys,values) \n",
        "# Show Plot \n",
        "plt.show() "
      ],
      "execution_count": null,
      "outputs": [
        {
          "output_type": "display_data",
          "data": {
            "image/png": "[encoded data removed]",
            "text/plain": [
              "<Figure size 1152x648 with 1 Axes>"
            ]
          },
          "metadata": {
            "tags": []
          }
        }
      ]
    },
    {
      "cell_type": "markdown",
      "metadata": {
        "id": "mUoynGufCsat",
        "colab_type": "text"
      },
      "source": [
        "## Betrachtung der Wörter\n",
        "Neben der Verteilung von Null-Werten und Disaster/Nicht Disaster Tweets wollen die einzelnen Wörter die in den jeweiligen Kateogrien vorkommen betrachtet werden, um mögliche Überschneidungen und Aufbau der einzelnen Tweets ermitteln zu können."
      ]
    },
    {
      "cell_type": "code",
      "metadata": {
        "id": "vbW2fGO1NFpa",
        "colab_type": "code",
        "colab": {
          "base_uri": "https://localhost:8080/",
          "height": 493
        },
        "outputId": "67ccf526-2072-4df1-a564-e25a961ba252"
      },
      "source": [
        "print (\"Distribution of disaster tweets\\n\")\n",
        "\n",
        "labels = 'Disaster Tweet', 'Not Disaster Tweet'\n",
        "slices = [dist_tweets['target'].size,ndist_tweets['target'].size]\n",
        "\n",
        "fig, ax = plt.subplots(figsize=(8,6))\n",
        "\n",
        "ax.pie(slices,labels=labels,autopct='%1.1f%%')"
      ],
      "execution_count": null,
      "outputs": [
        {
          "output_type": "stream",
          "text": [
            "Distribution of diaster tweets\n",
            "\n"
          ],
          "name": "stdout"
        },
        {
          "output_type": "execute_result",
          "data": {
            "text/plain": [
              "([<matplotlib.patches.Wedge at 0x7f1888325b00>,\n",
              "  <matplotlib.patches.Wedge at 0x7f18883392e8>],\n",
              " [Text(0.2411048161771122, 1.0732513534192263, 'Disaster Tweet'),\n",
              "  Text(-0.24110481617711257, -1.0732513534192263, 'Not Disaster Tweet')],\n",
              " [Text(0.13151171791478847, 0.5854098291377597, '43.0%'),\n",
              "  Text(-0.13151171791478866, -0.5854098291377597, '57.0%')])"
            ]
          },
          "metadata": {
            "tags": []
          },
          "execution_count": 8
        },
        {
          "output_type": "display_data",
          "data": {
            "image/png": "[encoded data removed]",
            "text/plain": [
              "<Figure size 576x432 with 1 Axes>"
            ]
          },
          "metadata": {
            "tags": []
          }
        }
      ]
    },
    {
      "cell_type": "code",
      "metadata": {
        "id": "eQMG_bn_LSSj",
        "colab_type": "code",
        "colab": {
          "base_uri": "https://localhost:8080/",
          "height": 340
        },
        "outputId": "9c7f3512-021b-4089-bbbb-24a2d03adc1b"
      },
      "source": [
        "print (\"Train data which are labeld as disaster tweet: \\n\\n\",\n",
        "       dist_tweets['text'].values[:10])\n",
        "print (\"\\n\\n Train data which aren't labeld as disaster tweet: \\n\\n\",\n",
        "      ndist_tweets['text'].values[:10])"
      ],
      "execution_count": null,
      "outputs": [
        {
          "output_type": "stream",
          "text": [
            "Train data which are labeld as disaster tweet: \n",
            "\n",
            " ['Our Deeds are the Reason of this #earthquake May ALLAH Forgive us all'\n",
            " 'Forest fire near La Ronge Sask. Canada'\n",
            " \"All residents asked to 'shelter in place' are being notified by officers. No other evacuation or shelter in place orders are expected\"\n",
            " '13,000 people receive #wildfires evacuation orders in California '\n",
            " 'Just got sent this photo from Ruby #Alaska as smoke from #wildfires pours into a school '\n",
            " '#RockyFire Update => California Hwy. 20 closed in both directions due to Lake County fire - #CAfire #wildfires'\n",
            " '#flood #disaster Heavy rain causes flash flooding of streets in Manitou, Colorado Springs areas'\n",
            " \"I'm on top of the hill and I can see a fire in the woods...\"\n",
            " \"There's an emergency evacuation happening now in the building across the street\"\n",
            " \"I'm afraid that the tornado is coming to our area...\"]\n",
            "\n",
            "\n",
            " Train data which aren't labeld as disaster tweet: \n",
            "\n",
            " [\"What's up man?\" 'I love fruits' 'Summer is lovely' 'My car is so fast'\n",
            " 'What a goooooooaaaaaal!!!!!!' 'this is ridiculous....'\n",
            " 'London is cool ;)' 'Love skiing' 'What a wonderful day!' 'LOOOOOOL']\n"
          ],
          "name": "stdout"
        }
      ]
    },
    {
      "cell_type": "code",
      "metadata": {
        "id": "zUZb9diXRLVh",
        "colab_type": "code",
        "colab": {}
      },
      "source": [
        "# word_count\n",
        "dist_word_count = dist_tweets['text'].apply(lambda x: len(str(x).split()))\n",
        "ndist_word_count = ndist_tweets['text'].apply(lambda x: len(str(x).split()))\n",
        "\n",
        "# unique_word_count\n",
        "dist_uword_count = dist_tweets['text'].apply(lambda x: len(set(str(x).split())))\n",
        "ndist_uword_count= ndist_tweets['text'].apply(lambda x: len(set(str(x).split())))\n",
        "\n",
        "# stop_word_count\n",
        "dist_sword_count = dist_tweets['text'].apply(lambda x: len([w for w in str(x).lower().split() if w in stopwords.words('english')]))\n",
        "ndist_sword_count = ndist_tweets['text'].apply(lambda x: len([w for w in str(x).lower().split() if w in stopwords.words('english')]))"
      ],
      "execution_count": null,
      "outputs": []
    },
    {
      "cell_type": "code",
      "metadata": {
        "id": "ZKRr1gy2Sqad",
        "colab_type": "code",
        "colab": {
          "base_uri": "https://localhost:8080/",
          "height": 1000
        },
        "outputId": "5c7b17c0-cd4c-442f-b640-3d441b4e4190"
      },
      "source": [
        "fig,(ax1,ax2)=plt.subplots(1,2,figsize=(10,5))\n",
        "ax1.hist(dist_word_count,color='firebrick')\n",
        "ax1.set_title('disaster tweets')\n",
        "\n",
        "ax2.hist(ndist_word_count,color='royalblue')\n",
        "ax2.set_title('Not disaster tweets')\n",
        "fig.suptitle('Words in a tweet')\n",
        "plt.show()\n",
        "\n",
        "fig,(ax1,ax2)=plt.subplots(1,2,figsize=(10,5))\n",
        "ax1.hist(dist_uword_count,color='firebrick')\n",
        "ax1.set_title('disaster tweets')\n",
        "\n",
        "ax2.hist(ndist_uword_count,color='royalblue')\n",
        "ax2.set_title('Not disaster tweets')\n",
        "fig.suptitle('Unique Words in a tweet')\n",
        "plt.show()\n",
        "\n",
        "fig,(ax1,ax2)=plt.subplots(1,2,figsize=(10,5))\n",
        "ax1.hist(dist_sword_count,color='firebrick')\n",
        "ax1.set_title('disaster tweets')\n",
        "\n",
        "ax2.hist(ndist_sword_count,color='royalblue')\n",
        "ax2.set_title('Not disaster tweets')\n",
        "fig.suptitle('Stop Words in a tweet')\n",
        "plt.show()"
      ],
      "execution_count": null,
      "outputs": [
        {
          "output_type": "display_data",
          "data": {
            "image/png": "[encoded data removed]",
            "text/plain": [
              "<Figure size 720x360 with 2 Axes>"
            ]
          },
          "metadata": {
            "tags": []
          }
        },
        {
          "output_type": "display_data",
          "data": {
            "image/png": "[encoded data removed]",
            "text/plain": [
              "<Figure size 720x360 with 2 Axes>"
            ]
          },
          "metadata": {
            "tags": []
          }
        },
        {
          "output_type": "display_data",
          "data": {
            "image/png": "[encoded data removed]",
            "text/plain": [
              "<Figure size 720x360 with 2 Axes>"
            ]
          },
          "metadata": {
            "tags": []
          }
        }
      ]
    },
    {
      "cell_type": "markdown",
      "metadata": {
        "id": "8iHfAOGWD6A5",
        "colab_type": "text"
      },
      "source": [
        "Die Tweets wurden anhand der Anzahl von Wörtern insgesamt, einzigartiger Wörter und Stop Wörten verglichen. Es scheint als wären die Disaster Tweets insgesamt etwas kürzer und beinhalten weniger Stop Wörtern als Nicht Disaster Tweet. Bei der Verteilung von einzigartigen Wörtern scheinen Nicht Disaster Tweets etwas mehr Wörter zu haben."
      ]
    },
    {
      "cell_type": "code",
      "metadata": {
        "id": "c8ZNYAomWUA3",
        "colab_type": "code",
        "colab": {}
      },
      "source": [
        "def fill_dict(dic, w):\n",
        "    if w in dic:\n",
        "      dic[w]+=1\n",
        "    else:\n",
        "      dic[w]=1\n",
        "\n",
        "def count_words(dic, words, stopwords=0):\n",
        "  for w in words:\n",
        "    if stopwords:\n",
        "      if w not in STOP:\n",
        "        fill_dict(dic,w)\n",
        "    else:\n",
        "        fill_dict(dic,w)"
      ],
      "execution_count": null,
      "outputs": []
    },
    {
      "cell_type": "code",
      "metadata": {
        "id": "iJWwwm0VnBjn",
        "colab_type": "code",
        "colab": {}
      },
      "source": [
        "count = {}\n",
        "dist_tweets['text'].apply(lambda x: count_words(count,x.lower().split(),1))\n",
        "count_without_stop = sorted(count.items(), key=lambda item: item[1], reverse=True)\n",
        "\n",
        "count = {}\n",
        "ndist_tweets['text'].apply(lambda x: count_words(count,x.lower().split(),1))\n",
        "count_without_stop2 = sorted(count.items(), key=lambda item: item[1], reverse=True)"
      ],
      "execution_count": null,
      "outputs": []
    },
    {
      "cell_type": "code",
      "metadata": {
        "id": "T7TEz2WngV0r",
        "colab_type": "code",
        "colab": {}
      },
      "source": [
        "def plot_common_words(one,two ):\n",
        "  fig,(ax1,ax2)=plt.subplots(1,2,figsize=(18,9))\n",
        "  keys=[]\n",
        "  values=[]  \n",
        "  keys2=[]\n",
        "  values2=[]\n",
        "  for i in range(20):\n",
        "    keys.append(one[i][0])\n",
        "    values.append(one[i][1])\n",
        "    keys2.append(two[i][0])\n",
        "    values2.append(two[i][1])\n",
        "\n",
        "  ax1.barh(keys,values,color='firebrick')\n",
        "  ax1.set_title('Disaster Tweets')\n",
        "\n",
        "  ax2.barh(keys2,values2,color='royalblue')\n",
        "  ax2.set_title('Not Disaster Tweets')\n",
        "  fig.suptitle('Common words')\n",
        "  plt.show()"
      ],
      "execution_count": null,
      "outputs": []
    },
    {
      "cell_type": "code",
      "metadata": {
        "id": "fm6mk56AoH7K",
        "colab_type": "code",
        "colab": {
          "base_uri": "https://localhost:8080/",
          "height": 602
        },
        "outputId": "93e19b60-c014-43dc-9697-5cca7698154f"
      },
      "source": [
        "plot_common_words(count_without_stop,count_without_stop2)"
      ],
      "execution_count": null,
      "outputs": [
        {
          "output_type": "display_data",
          "data": {
            "image/png": "[encoded data removed]",
            "text/plain": [
              "<Figure size 1296x648 with 2 Axes>"
            ]
          },
          "metadata": {
            "tags": []
          }
        }
      ]
    },
    {
      "cell_type": "markdown",
      "metadata": {
        "id": "I9R3eF7JEsW_",
        "colab_type": "text"
      },
      "source": [
        "Schaut man sich die Häufigkeit der Wörter, ohne Stopwörter, an sieht man, dass das es einige Überschneidungen gibt. Bei beiden sind folgende Wörter bzw Charakter aufgelistet: '-', 'via', '&amp ;', 'like', '2' und 'get'. Einzelnd betrachtet kommt bei den Disaster Tweets das Word 'fire' und 'suicide' und bei den Nicht Disaster Tweets 'i'm' und 'new' am meisten vor. Insgesamt gibt es also doch relevante Überschneidungen der Tweets."
      ]
    },
    {
      "cell_type": "markdown",
      "metadata": {
        "id": "ckiITZZ5WWd7",
        "colab_type": "text"
      },
      "source": [
        "# Data Cleaning"
      ]
    },
    {
      "cell_type": "markdown",
      "metadata": {
        "id": "e_5Npv4yF5us",
        "colab_type": "text"
      },
      "source": [
        "Damit mit den Daten gearbeitet werden, kann sollten sie etwas aufgeräumt und unnötige Charaktere entfernt werden. Für das leichtere entfernen und spätere vergleichen werden alle Sätze in LowerCase umgewandelt. Danach werden Stopwörter, Links, Satz - und Sonderzeichen und Zahlen größtenteils entfernt."
      ]
    },
    {
      "cell_type": "code",
      "metadata": {
        "id": "QTTjdzpRAZNj",
        "colab_type": "code",
        "colab": {}
      },
      "source": [
        "#train = pd.read_csv('/content/DataScienceSS20Project/nlp-getting-started/train.csv', dtype={'id': np.int16, 'target': np.int8})\n",
        "#test = pd.read_csv('/content/DataScienceSS20Project/nlp-getting-started/test.csv', dtype={'id': np.int16})\n",
        "train = pd.read_csv('train.csv', dtype={'id': np.int16, 'target': np.int8})\n",
        "test = pd.read_csv('test.csv', dtype={'id': np.int16})"
      ],
      "execution_count": 4,
      "outputs": []
    },
    {
      "cell_type": "code",
      "metadata": {
        "id": "ivy_bCD4orQr",
        "colab_type": "code",
        "colab": {}
      },
      "source": [
        "#Data Cleaning\n",
        "#all to lower case\n",
        "#remove punctiaction and other characters etc\n",
        "#remove Stop words\n",
        "\n",
        "def clean_data(x):\n",
        "  x= x.lower()\n",
        "  x = re.sub('https?://\\S+|www\\.\\S+', '', x)\n",
        "  x = re.sub(\"'\", \" \", x)\n",
        "  x = re.sub(r\"&gt;\", \"\", x)\n",
        "  x = re.sub(r\"&lt;\", \"\", x)\n",
        "  x = re.sub(r\"&amp;\", \"\", x)\n",
        "  x = re.sub(r\"\\n\", \" \", x)\n",
        "  x = re.sub(r\"\\x89ûò\", \"\", x)\n",
        "  x = re.sub(r\"\\x89ûò\", \"\", x)\n",
        "  x = re.sub(r\"\\x89ûª\", \"\", x)\n",
        "  x = re.sub(r\"åê\", \"\", x)\n",
        "  x = re.sub(r\"\\x89ûï\", \"\", x)\n",
        "  x = re.sub(r\"\\x89ûò\", \"\", x)\n",
        "  x = re.sub(r\"\\x89ûª\", \"\", x)\n",
        "  x = re.sub(r\"\\x89ûò\", \"\", x)\n",
        "  x = re.sub(r\"\\x89ûª\", \"\", x)\n",
        "  x = re.sub(r\"\\x89û\", \"\", x)\n",
        "  x = re.sub(r\"\\x9d\", \"\", x)\n",
        "  x = re.sub('\\w*\\d\\w*', '', x)\n",
        "  x = re.sub('ì©', 'é', x)\n",
        "  x = re.sub(\"[@.!?\\\\-*#+_:,;=><'§$%&/°^`´{}>|~()]\", \"\",x)\n",
        "  return x\n",
        "\n",
        "train['text']=train['text'].apply(lambda x: clean_data(x))\n",
        "test['text']=test['text'].apply(lambda x: clean_data(x))"
      ],
      "execution_count": 5,
      "outputs": []
    },
    {
      "cell_type": "code",
      "metadata": {
        "id": "x667-R4x4vGt",
        "colab_type": "code",
        "colab": {
          "base_uri": "https://localhost:8080/",
          "height": 173
        },
        "outputId": "131d2de7-2c07-4bb2-c5ae-74bf335e3bc0"
      },
      "source": [
        "train['text'].values[:10]\n",
        "test['text'].values[:10]"
      ],
      "execution_count": 6,
      "outputs": [
        {
          "output_type": "execute_result",
          "data": {
            "text/plain": [
              "array(['just happened a terrible car crash',\n",
              "       'heard about earthquake is different cities stay safe everyone',\n",
              "       'there is a forest fire at spot pond geese are fleeing across the street i cannot save them all',\n",
              "       'apocalypse lighting spokane wildfires',\n",
              "       'typhoon soudelor kills  in china and taiwan',\n",
              "       'we re shakingit s an earthquake',\n",
              "       'they d probably still show more life than arsenal did yesterday eh eh',\n",
              "       'hey how are you', 'what a nice hat', 'fuck off'], dtype=object)"
            ]
          },
          "metadata": {
            "tags": []
          },
          "execution_count": 6
        }
      ]
    },
    {
      "cell_type": "code",
      "metadata": {
        "id": "S3OWJyk-7Eox",
        "colab_type": "code",
        "colab": {}
      },
      "source": [
        "tokenizer = nltk.tokenize.RegexpTokenizer(r'\\w+')\n",
        "\n",
        "train['text'] = train['text'].apply(lambda x: tokenizer.tokenize(x))\n",
        "test['text'] = test['text'].apply(lambda x: tokenizer.tokenize(x))"
      ],
      "execution_count": 7,
      "outputs": []
    },
    {
      "cell_type": "code",
      "metadata": {
        "id": "CI5Ug-ef62XL",
        "colab_type": "code",
        "colab": {}
      },
      "source": [
        "def remove_stopwords(tokens):\n",
        "  toke=[]\n",
        "  for t in tokens: \n",
        "    if t not in STOP:\n",
        "       toke.append(t)\n",
        "  return toke\n",
        "\n",
        "train['text'] = train['text'].apply(lambda x: remove_stopwords(x))\n",
        "test['text'] = test['text'].apply(lambda x: remove_stopwords(x))"
      ],
      "execution_count": 8,
      "outputs": []
    },
    {
      "cell_type": "markdown",
      "metadata": {
        "id": "5QT9SwKxGjMM",
        "colab_type": "text"
      },
      "source": [
        "Am Ende sehen die gesäuberte Daten wie folgt aus:"
      ]
    },
    {
      "cell_type": "code",
      "metadata": {
        "id": "n61wQL1uG5Sf",
        "colab_type": "code",
        "colab": {
          "base_uri": "https://localhost:8080/",
          "height": 119
        },
        "outputId": "2edb6105-0030-4053-c2e6-d3c66bd28add"
      },
      "source": [
        "def combine_tokens(tokens):\n",
        "  a=\"\"\n",
        "  for t in tokens:\n",
        "    a = a + t + \" \"\n",
        "  return a\n",
        "\n",
        "  \n",
        "train['text'] = train['text'].apply(lambda x: combine_tokens(x))\n",
        "test['text'] = test['text'].apply(lambda x: combine_tokens(x))\n",
        "train['text'].head()"
      ],
      "execution_count": 9,
      "outputs": [
        {
          "output_type": "execute_result",
          "data": {
            "text/plain": [
              "0        deeds reason earthquake may allah forgive us \n",
              "1               forest fire near la ronge sask canada \n",
              "2    residents asked shelter place notified officer...\n",
              "3    people receive wildfires evacuation orders cal...\n",
              "4    got sent photo ruby alaska smoke wildfires pou...\n",
              "Name: text, dtype: object"
            ]
          },
          "metadata": {
            "tags": []
          },
          "execution_count": 9
        }
      ]
    },
    {
      "cell_type": "markdown",
      "metadata": {
        "id": "_P5hSeTzAn7Y",
        "colab_type": "text"
      },
      "source": [
        "# Data Learning\n",
        "\n",
        "Für das Vorhersagen der Testdaten wurden verschiedene Varianten eingesetzt und miteinander verglichen. Dabei wurde zuerst mit simplen Lernmodellen gearbeitet wie Logistic Regression und Naive Bayes. Dann wurden die Daten mit Word2Vec bearbeitet und nochmals mit den simpleren Modellen ausgeführt um zu sehen, ob sich das Ergebnis verbessert. Am Schluss wurde das BERT Model verwendet und dort mit unterschiedlichen Hyperparametern experimentiert."
      ]
    },
    {
      "cell_type": "markdown",
      "metadata": {
        "id": "xZAZSmsEG_Cn",
        "colab_type": "text"
      },
      "source": [
        "# Learning Models\n",
        "Für die Einfachkeit wurden Methoden erstellt, welcher das jeweilige Model übergeben wird und das Ergebnis dann abspeichern.\n",
        "Bei der Vektorizierung der Daten wurde die Tfidf Vektorizierung verwendet."
      ]
    },
    {
      "cell_type": "code",
      "metadata": {
        "id": "d0zCph6Hf6cd",
        "colab_type": "code",
        "colab": {}
      },
      "source": [
        "# classification table\n",
        "def printreport(exp, pred):\n",
        "    print(pd.crosstab(exp, pred, rownames=['Actual'], colnames=['Predicted']))\n",
        "    print('\\n \\n')\n",
        "    print(classification_report(exp, pred))"
      ],
      "execution_count": 10,
      "outputs": []
    },
    {
      "cell_type": "code",
      "metadata": {
        "id": "1GNW2wSQgtAU",
        "colab_type": "code",
        "colab": {}
      },
      "source": [
        "def runSimpleModels(clf, train_values, test_values, file_name=\"submission.csv\"):\n",
        "  print (\"Calculating Scores\")\n",
        "  scores = model_selection.cross_val_score(clf,train_values, train[\"target\"], cv=5, scoring=\"f1\")\n",
        "  print (\"Scores: \", scores)\n",
        "  x, x_test, y, y_test = train_test_split(train_values, train[\"target\"])\n",
        "\n",
        "  print (\"Fitting Model...\")\n",
        "  clf.fit(x,y)\n",
        "  predicted = clf.predict(x_test)\n",
        "  printreport(y_test, predicted)\n",
        "  \n",
        "  print (\"Making Submission...\")\n",
        "  predictions = clf.predict(test_values)\n",
        "  #submission = pd.read_csv('/content/DataScienceSS20Project/nlp-getting-started/sample_submission.csv')\n",
        "  submission = pd.read_csv('sample_submission.csv')\n",
        "  submission['target']= predictions\n",
        "  submission.to_csv(file_name,index=False)\n",
        "  \n",
        "  print (\"Done!\")"
      ],
      "execution_count": 11,
      "outputs": []
    },
    {
      "cell_type": "markdown",
      "metadata": {
        "id": "x0PoXP3LbGdn",
        "colab_type": "text"
      },
      "source": [
        "## Logistic Regression\n"
      ]
    },
    {
      "cell_type": "code",
      "metadata": {
        "id": "UmGEKsJgj00C",
        "colab_type": "code",
        "colab": {}
      },
      "source": [
        "vec = TfidfVectorizer(min_df=2, max_df=0.5, ngram_range=(1, 2))\n",
        "train_vec = vec.fit_transform(train['text'])\n",
        "test_vec = vec.transform(test[\"text\"])"
      ],
      "execution_count": 12,
      "outputs": []
    },
    {
      "cell_type": "code",
      "metadata": {
        "id": "mIuJRyqZfsJV",
        "colab_type": "code",
        "colab": {
          "base_uri": "https://localhost:8080/",
          "height": 374
        },
        "outputId": "39852f2e-4b30-4a7a-f753-2c95ac21d41a"
      },
      "source": [
        "clf = LogisticRegression(C=1.0)\n",
        "runSimpleModels(clf, train_vec, test_vec , \"submissionLogisticReg.csv\")"
      ],
      "execution_count": 13,
      "outputs": [
        {
          "output_type": "stream",
          "text": [
            "Calculating Scores\n",
            "Scores:  [0.57489879 0.49389671 0.54078827 0.44678609 0.65890779]\n",
            "Fitting Model...\n",
            "Predicted     0    1\n",
            "Actual              \n",
            "0          1001   92\n",
            "1           271  540\n",
            "\n",
            " \n",
            "\n",
            "              precision    recall  f1-score   support\n",
            "\n",
            "           0       0.79      0.92      0.85      1093\n",
            "           1       0.85      0.67      0.75       811\n",
            "\n",
            "    accuracy                           0.81      1904\n",
            "   macro avg       0.82      0.79      0.80      1904\n",
            "weighted avg       0.82      0.81      0.80      1904\n",
            "\n",
            "Making Submission...\n",
            "Done!\n"
          ],
          "name": "stdout"
        }
      ]
    },
    {
      "cell_type": "markdown",
      "metadata": {
        "id": "TBBqgEyDOq1E",
        "colab_type": "text"
      },
      "source": [
        "Mit der Logistic Regression wurde in Kaggel ein Score von 0.79129 erreicht, was an sich nicht so schlecht ist. Es stimmt mit der berechneten Accuracy überein. "
      ]
    },
    {
      "cell_type": "markdown",
      "metadata": {
        "id": "9ij2pvziVHqw",
        "colab_type": "text"
      },
      "source": [
        "## Naive Bayes"
      ]
    },
    {
      "cell_type": "code",
      "metadata": {
        "id": "UxJK4PvKCLRf",
        "colab_type": "code",
        "colab": {}
      },
      "source": [
        "vec = TfidfVectorizer(min_df=2, max_df=0.5, ngram_range=(1, 2))\n",
        "train_vec = vec.fit_transform(train['text'])\n",
        "test_vec = vec.transform(test[\"text\"])"
      ],
      "execution_count": 14,
      "outputs": []
    },
    {
      "cell_type": "code",
      "metadata": {
        "id": "mVdwyzBdFB58",
        "colab_type": "code",
        "colab": {
          "base_uri": "https://localhost:8080/",
          "height": 374
        },
        "outputId": "d0144637-cf08-41b2-f366-092d4c581b75"
      },
      "source": [
        "clf = MultinomialNB()\n",
        "runSimpleModels(clf, train_vec, test_vec ,\"submissionNaiveBayes.csv\")"
      ],
      "execution_count": 15,
      "outputs": [
        {
          "output_type": "stream",
          "text": [
            "Calculating Scores\n",
            "Scores:  [0.57847976 0.56338028 0.60173913 0.58464385 0.72347267]\n",
            "Fitting Model...\n",
            "Predicted    0    1\n",
            "Actual             \n",
            "0          993   87\n",
            "1          283  541\n",
            "\n",
            " \n",
            "\n",
            "              precision    recall  f1-score   support\n",
            "\n",
            "           0       0.78      0.92      0.84      1080\n",
            "           1       0.86      0.66      0.75       824\n",
            "\n",
            "    accuracy                           0.81      1904\n",
            "   macro avg       0.82      0.79      0.79      1904\n",
            "weighted avg       0.81      0.81      0.80      1904\n",
            "\n",
            "Making Submission...\n",
            "Done!\n"
          ],
          "name": "stdout"
        }
      ]
    },
    {
      "cell_type": "markdown",
      "metadata": {
        "id": "m6dJLymmFtAv",
        "colab_type": "text"
      },
      "source": [
        "Naive Bayes bringt einen Score von 0.79436 in Kaggle, womit es etwas besser als Logistic Regression ist, allerdings nicht wirklich signifikant. Insgesamt liefern beide Model recht ähnliche Ergebnisse, wobei der F1-Score bei ca 0.8 liegt."
      ]
    },
    {
      "cell_type": "markdown",
      "metadata": {
        "id": "wJ--tEZJjnX2",
        "colab_type": "text"
      },
      "source": [
        "## Word2Vec\n"
      ]
    },
    {
      "cell_type": "markdown",
      "metadata": {
        "id": "HHt7cKkPeHp1",
        "colab_type": "text"
      },
      "source": [
        "Jetzt wollen wir betrachten, ob druch die Vektorizierung mit Word2Vec möglicherweise die Ergebnisse verbessert werden können.\n",
        "Für die Verwendung von Word2Vec wurden vortrainierte Vektoren unter folgenden Link verwendet.\n",
        "\n",
        "https://www.kaggle.com/umbertogriffo/googles-trained-word2vec-model-in-python\n"
      ]
    },
    {
      "cell_type": "code",
      "metadata": {
        "id": "BpYuDm4ScC8T",
        "colab_type": "code",
        "colab": {}
      },
      "source": [
        "import gensim\n",
        "#path =\"drive/My Drive/GoogleNews-vectors-negative300.bin\"\n",
        "path =\"GoogleNews-vectors-negative300.bin\"\n",
        "model = gensim.models.KeyedVectors.load_word2vec_format(path,binary=True)"
      ],
      "execution_count": null,
      "outputs": []
    },
    {
      "cell_type": "code",
      "metadata": {
        "id": "G5gjAr5JdJKZ",
        "colab_type": "code",
        "colab": {}
      },
      "source": [
        "tokenizer = nltk.tokenize.RegexpTokenizer(r'\\w+')\n",
        "\n",
        "corpus_train = [tokenizer.tokenize(x) for x in train['text'].values]\n",
        "corpus_test = [tokenizer.tokenize(x) for x in test['text'].values]"
      ],
      "execution_count": null,
      "outputs": []
    },
    {
      "cell_type": "code",
      "metadata": {
        "id": "ZDHXdYxAcjj4",
        "colab_type": "code",
        "colab": {}
      },
      "source": [
        "def word_average(sent):\n",
        "        mean = []\n",
        "        for word in sent:\n",
        "            if word in model.vocab:\n",
        "                mean.append(model.get_vector(word))\n",
        "\n",
        "        if not mean:  # empty words\n",
        "            return np.zeros(model.vector_size)\n",
        "        else:\n",
        "            mean = np.array(mean).mean(axis=0)\n",
        "            return mean\n"
      ],
      "execution_count": null,
      "outputs": []
    },
    {
      "cell_type": "code",
      "metadata": {
        "id": "2JWDy4xwLi01",
        "colab_type": "code",
        "colab": {
          "base_uri": "https://localhost:8080/",
          "height": 34
        },
        "outputId": "a83a67e2-1ef5-4c04-9072-f4e70e515cde"
      },
      "source": [
        "vector_train = np.vstack([word_average(sent) for sent in corpus_train])\n",
        "vector_test = np.vstack([word_average(sent) for sent in corpus_test])\n",
        "print (\"Train Shape: \", vector_train.shape)\n",
        "print (\"Test Shape: \", vector_test.shape)"
      ],
      "execution_count": null,
      "outputs": [
        {
          "output_type": "execute_result",
          "data": {
            "text/plain": [
              "(3263, 300)"
            ]
          },
          "metadata": {
            "tags": []
          },
          "execution_count": 22
        }
      ]
    },
    {
      "cell_type": "code",
      "metadata": {
        "id": "6srvdvxigkrS",
        "colab_type": "code",
        "colab": {
          "base_uri": "https://localhost:8080/",
          "height": 357
        },
        "outputId": "842c5ac8-0fc6-4b71-b2e9-b29f3c22d90e"
      },
      "source": [
        "clf = LogisticRegression(C=1.0)\n",
        "runSimpleModels(clf,vector_train, vector_test, 'submissionWord2VecLogReg.csv')"
      ],
      "execution_count": null,
      "outputs": [
        {
          "output_type": "stream",
          "text": [
            "Scores:  [0.67615063 0.70477682 0.7218845  0.71510204 0.77117385]\n",
            "Fitting Model...\n",
            "Predicted    0    1\n",
            "Actual             \n",
            "0          903  177\n",
            "1          250  574\n",
            "\n",
            " \n",
            "\n",
            "              precision    recall  f1-score   support\n",
            "\n",
            "           0       0.78      0.84      0.81      1080\n",
            "           1       0.76      0.70      0.73       824\n",
            "\n",
            "    accuracy                           0.78      1904\n",
            "   macro avg       0.77      0.77      0.77      1904\n",
            "weighted avg       0.78      0.78      0.77      1904\n",
            "\n",
            "Making Submission...\n",
            "Done!\n"
          ],
          "name": "stdout"
        }
      ]
    },
    {
      "cell_type": "markdown",
      "metadata": {
        "id": "X2O8e1zUR58X",
        "colab_type": "text"
      },
      "source": [
        "Erstaunlicherweise verschlechtert sich der Score durch die Verwendung von Word2Vec. Der Kaggel Score liegt nun bei 0.78915. Dies kann möglicherweise daran liegen, dass der vortrainierte Vektore auf längere Texte trainiert ist und deswegen bei den Tweets die nur aus 1 bis 2 Sätzen bestehen, nicht gut vorhersagen kann.\n",
        "\n",
        "Leider funktionierte Naive Bayes nicht, da anscheinden negative Werte berechnet wurden und so es zu einer Exception kam. Deswegen wurde stattdessen noch XGBoost verwendet."
      ]
    },
    {
      "cell_type": "code",
      "metadata": {
        "id": "fexORQiWlgWp",
        "colab_type": "code",
        "colab": {
          "base_uri": "https://localhost:8080/",
          "height": 357
        },
        "outputId": "a9d5fc7d-9d91-45c2-f07e-c57646df5710"
      },
      "source": [
        "clf_xgb = xgb.XGBClassifier(max_depth=7, n_estimators=200, colsample_bytree=0.8, \n",
        "                        subsample=0.8, nthread=10, learning_rate=0.1)\n",
        "runSimpleModels(clf_xgb,vector_train, vector_test, 'submissionWord2VecXGB.csv')"
      ],
      "execution_count": null,
      "outputs": [
        {
          "output_type": "stream",
          "text": [
            "Scores:  [0.71064204 0.66938111 0.71843137 0.72343877 0.77233877]\n",
            "Fitting Model...\n",
            "Predicted    0    1\n",
            "Actual             \n",
            "0          944  133\n",
            "1          250  577\n",
            "\n",
            " \n",
            "\n",
            "              precision    recall  f1-score   support\n",
            "\n",
            "           0       0.79      0.88      0.83      1077\n",
            "           1       0.81      0.70      0.75       827\n",
            "\n",
            "    accuracy                           0.80      1904\n",
            "   macro avg       0.80      0.79      0.79      1904\n",
            "weighted avg       0.80      0.80      0.80      1904\n",
            "\n",
            "Making Submission...\n",
            "Done!\n"
          ],
          "name": "stdout"
        }
      ]
    },
    {
      "cell_type": "markdown",
      "metadata": {
        "id": "_Ehy5BU0THkp",
        "colab_type": "text"
      },
      "source": [
        "Auch hier liefert das Model nur einen Kaggel Score von 0.79252. Somit lohnt sich die Verwendung von Word2Vec nicht. Von den simpleren Modellen lieferte Naive Bayes den besten Score."
      ]
    },
    {
      "cell_type": "markdown",
      "metadata": {
        "id": "NLJfAej_MhE2",
        "colab_type": "text"
      },
      "source": [
        "## BERT Model\n",
        "\n",
        "Zu Schluss soll noch das BERT Model verwendet werden, welches das aufwändigster der Modelle ist. Dabei wurde eine Neuronals Netz aufgebaut und ein vortrainiertes Model verwendet."
      ]
    },
    {
      "cell_type": "code",
      "metadata": {
        "id": "O3YU69YAKDqx",
        "colab_type": "code",
        "colab": {
          "base_uri": "https://localhost:8080/",
          "height": 425
        },
        "outputId": "4a38d37b-5f96-400f-9bb6-667b2f49e706"
      },
      "source": [
        "max_seq_length = 160  \n",
        "input_word_ids = tf.keras.layers.Input(shape=(max_seq_length,), dtype=tf.int32,\n",
        "                                       name=\"input_word_ids\")\n",
        "input_mask = tf.keras.layers.Input(shape=(max_seq_length,), dtype=tf.int32,\n",
        "                                   name=\"input_mask\")\n",
        "segment_ids = tf.keras.layers.Input(shape=(max_seq_length,), dtype=tf.int32,\n",
        "                                    name=\"segment_ids\")\n",
        "bert_layer = hub.KerasLayer(\"https://tfhub.dev/tensorflow/bert_en_uncased_L-12_H-768_A-12/1\",\n",
        "                            trainable=True)\n",
        "pooled_output, sequence_output = bert_layer([input_word_ids, input_mask, segment_ids])\n",
        "clf_output = sequence_output[:, 0, :]\n",
        "\n",
        "x = tf.keras.layers.Dropout(0.1)(clf_output)\n",
        "out = tf.keras.layers.Dense(1, activation='sigmoid')(x)\n",
        "#out = tf.keras.layers.Dense(1, activation='sigmoid')(clf_output)\n",
        "\n",
        "model = Model(inputs=[input_word_ids, input_mask, segment_ids], outputs=out)\n",
        "model.summary()"
      ],
      "execution_count": 18,
      "outputs": [
        {
          "output_type": "stream",
          "text": [
            "Model: \"functional_1\"\n",
            "__________________________________________________________________________________________________\n",
            "Layer (type)                    Output Shape         Param #     Connected to                     \n",
            "==================================================================================================\n",
            "input_word_ids (InputLayer)     [(None, 160)]        0                                            \n",
            "__________________________________________________________________________________________________\n",
            "input_mask (InputLayer)         [(None, 160)]        0                                            \n",
            "__________________________________________________________________________________________________\n",
            "segment_ids (InputLayer)        [(None, 160)]        0                                            \n",
            "__________________________________________________________________________________________________\n",
            "keras_layer (KerasLayer)        [(None, 768), (None, 109482241   input_word_ids[0][0]             \n",
            "                                                                 input_mask[0][0]                 \n",
            "                                                                 segment_ids[0][0]                \n",
            "__________________________________________________________________________________________________\n",
            "tf.__operators__.getitem (Slici (None, 768)          0           keras_layer[0][1]                \n",
            "__________________________________________________________________________________________________\n",
            "dropout (Dropout)               (None, 768)          0           tf.__operators__.getitem[0][0]   \n",
            "__________________________________________________________________________________________________\n",
            "dense (Dense)                   (None, 1)            769         dropout[0][0]                    \n",
            "==================================================================================================\n",
            "Total params: 109,483,010\n",
            "Trainable params: 109,483,009\n",
            "Non-trainable params: 1\n",
            "__________________________________________________________________________________________________\n"
          ],
          "name": "stdout"
        }
      ]
    },
    {
      "cell_type": "code",
      "metadata": {
        "id": "GopZg71RKl7P",
        "colab_type": "code",
        "colab": {}
      },
      "source": [
        "FullTokenizer = bert.bert_tokenization.FullTokenizer\n",
        "vocab_file = bert_layer.resolved_object.vocab_file.asset_path.numpy()\n",
        "do_lower_case = bert_layer.resolved_object.do_lower_case.numpy()\n",
        "tokenizer = FullTokenizer(vocab_file, do_lower_case)"
      ],
      "execution_count": 19,
      "outputs": []
    },
    {
      "cell_type": "code",
      "metadata": {
        "id": "xXlBYSYJUkH2",
        "colab_type": "code",
        "colab": {}
      },
      "source": [
        "# from https://www.kaggle.com/gunesevitan/nlp-with-disaster-tweets-eda-cleaning-and-bert#7.-Model\n",
        "def bert_encode(texts, tokenizer, max_len=512):\n",
        "    all_tokens = []\n",
        "    all_masks = []\n",
        "    all_segments = []\n",
        "    \n",
        "    for text in texts:\n",
        "        text = tokenizer.tokenize(text)\n",
        "            \n",
        "        text = text[:max_len-2]\n",
        "        input_sequence = [\"[CLS]\"] + text + [\"[SEP]\"]\n",
        "        pad_len = max_len - len(input_sequence)\n",
        "        \n",
        "        tokens = tokenizer.convert_tokens_to_ids(input_sequence)\n",
        "        tokens += [0] * pad_len\n",
        "        pad_masks = [1] * len(input_sequence) + [0] * pad_len\n",
        "        segment_ids = [0] * max_len\n",
        "        \n",
        "        all_tokens.append(tokens)\n",
        "        all_masks.append(pad_masks)\n",
        "        all_segments.append(segment_ids)\n",
        "    return np.array(all_tokens), np.array(all_masks), np.array(all_segments)"
      ],
      "execution_count": 20,
      "outputs": []
    },
    {
      "cell_type": "code",
      "metadata": {
        "id": "VGeXL6CDUl1I",
        "colab_type": "code",
        "colab": {}
      },
      "source": [
        "train_input = bert_encode(train.text.values, tokenizer, max_len=max_seq_length)\n",
        "test_input = bert_encode(test.text.values, tokenizer, max_len=max_seq_length)\n",
        "train_labels = train.target.values"
      ],
      "execution_count": 21,
      "outputs": []
    },
    {
      "cell_type": "code",
      "metadata": {
        "id": "1eb-p376RJfB",
        "colab_type": "code",
        "colab": {
          "base_uri": "https://localhost:8080/",
          "height": 224
        },
        "outputId": "e4455b0d-5ee3-4a44-f84a-7b9cb76b22c9"
      },
      "source": [
        "checkpoint =  tf.keras.callbacks.ModelCheckpoint('model.h5', monitor='val_loss', save_best_only=True)\n",
        "\n",
        "optimizer = tf.keras.optimizers.Adam(lr=0.0000005)\n",
        "model.compile(loss='binary_crossentropy', optimizer=optimizer, metrics=['accuracy'])\n",
        "history=model.fit(\n",
        "    train_input, train_labels,\n",
        "    validation_split=0.2,\n",
        "    callbacks=[checkpoint],\n",
        "    epochs=5,\n",
        "    batch_size=32\n",
        ")"
      ],
      "execution_count": 22,
      "outputs": [
        {
          "output_type": "stream",
          "text": [
            "WARNING:tensorflow:Automatic model reloading for interrupted job was removed from the `ModelCheckpoint` callback in multi-worker mode, please use the `keras.callbacks.experimental.BackupAndRestore` callback instead. See this tutorial for details: https://www.tensorflow.org/tutorials/distribute/multi_worker_with_keras#backupandrestore_callback.\n"
          ],
          "name": "stderr"
        },
        {
          "output_type": "stream",
          "text": [
            "Epoch 1/5\n",
            "191/191 [==============================] - 138s 720ms/step - loss: 0.7180 - accuracy: 0.5044 - val_loss: 0.5987 - val_accuracy: 0.7282\n",
            "Epoch 2/5\n",
            "191/191 [==============================] - 123s 646ms/step - loss: 0.5708 - accuracy: 0.7302 - val_loss: 0.4968 - val_accuracy: 0.7781\n",
            "Epoch 3/5\n",
            "191/191 [==============================] - 123s 646ms/step - loss: 0.4849 - accuracy: 0.7833 - val_loss: 0.4655 - val_accuracy: 0.7945\n",
            "Epoch 4/5\n",
            "191/191 [==============================] - 123s 646ms/step - loss: 0.4493 - accuracy: 0.8036 - val_loss: 0.4517 - val_accuracy: 0.8050\n",
            "Epoch 5/5\n",
            "191/191 [==============================] - 123s 646ms/step - loss: 0.4047 - accuracy: 0.8270 - val_loss: 0.4447 - val_accuracy: 0.8089\n"
          ],
          "name": "stdout"
        }
      ]
    },
    {
      "cell_type": "code",
      "metadata": {
        "id": "_S-yQEAJecFn",
        "colab_type": "code",
        "colab": {
          "base_uri": "https://localhost:8080/",
          "height": 571
        },
        "outputId": "dda43524-d509-45d2-f131-5d0be53db989"
      },
      "source": [
        "# summarize history for accuracy\n",
        "plt.plot(history.history['accuracy'])\n",
        "plt.plot(history.history['val_accuracy'])\n",
        "plt.title('model accuracy')\n",
        "plt.ylabel('accuracy')\n",
        "plt.xlabel('epoch')\n",
        "plt.legend(['train', 'test'], loc='upper left')\n",
        "plt.show()\n",
        "# summarize history for loss\n",
        "plt.plot(history.history['loss'])\n",
        "plt.plot(history.history['val_loss'])\n",
        "plt.title('model loss')\n",
        "plt.ylabel('loss')\n",
        "plt.xlabel('epoch')\n",
        "plt.legend(['train', 'test'], loc='upper left')\n",
        "plt.show()"
      ],
      "execution_count": 23,
      "outputs": [
        {
          "output_type": "display_data",
          "data": {
            "image/png": "[encoded data removed]",
            "text/plain": [
              "<Figure size 432x288 with 1 Axes>"
            ]
          },
          "metadata": {
            "tags": [],
            "needs_background": "light"
          }
        },
        {
          "output_type": "display_data",
          "data": {
            "image/png": "[encoded data removed]",
            "text/plain": [
              "<Figure size 432x288 with 1 Axes>"
            ]
          },
          "metadata": {
            "tags": [],
            "needs_background": "light"
          }
        }
      ]
    },
    {
      "cell_type": "code",
      "metadata": {
        "id": "sEL0wOBxbVts",
        "colab_type": "code",
        "colab": {}
      },
      "source": [
        "#submission = pd.read_csv('/content/DataScienceSS20Project/nlp-getting-started/sample_submission.csv')\n",
        "submission = pd.read_csv('sample_submission.csv')"
      ],
      "execution_count": 24,
      "outputs": []
    },
    {
      "cell_type": "code",
      "metadata": {
        "id": "HtGH1XxDar75",
        "colab_type": "code",
        "colab": {}
      },
      "source": [
        "model.trainable=False\n",
        "\n",
        "optimizer = tf.keras.optimizers.Adam(lr=0.0000005)\n",
        "model.compile(loss='binary_crossentropy', optimizer=optimizer, metrics=['accuracy'])\n",
        "model.load_weights('model.h5')\n",
        "train_pred = model.predict(test_input)\n"
      ],
      "execution_count": 25,
      "outputs": []
    },
    {
      "cell_type": "code",
      "metadata": {
        "id": "cqa-y_-oQ3Zr",
        "colab_type": "code",
        "colab": {}
      },
      "source": [
        "submission['target'] = train_pred.round().astype(int)\n",
        "submission.to_csv('submissionBert.csv', index=False)"
      ],
      "execution_count": 26,
      "outputs": []
    },
    {
      "cell_type": "markdown",
      "metadata": {
        "id": "NrDYiKYx0i2Z",
        "colab_type": "text"
      },
      "source": [
        "Das erste Model von Bert lieferte mit folgenden Hyperparametern einen Score von 0.80968\n",
        "* 3 Epochen\n",
        "* Validation Split 0.3\n",
        "* Batchsize 32\n",
        "* learning_rate 0.00001\n",
        "* ohne Dropout\n",
        "\n",
        "Damit war das Model jetzt schon besser als die simpleren Modelle. Allerdings zeigten die Kurven, dass das Model wahrscheinlich Overfitted, da sich bei den Trainingsdaten der Loss verringerte und die Accuracy steigt aber bei den Test daten die Accuracy nach der 1sten Epoche bereits wieder schlechter wird und der Loss steigt.\n",
        "\n",
        "Aus diesem Grund wurde Dropout eingebaut, um das Ergebniss nochmals zu verbessern.\n",
        "\n",
        "Das Model wurde dreimal mit folgende Hyperparametern ausgeführt und dreimal bei Kaggel eingreicht, welche folgende Scores erreichten: 0.81887 / 0.82653 / 0,82929\n",
        "\n",
        "* 5 Epochen\n",
        "* Validation Split 0.2\n",
        "* Batchsize 32\n",
        "* learning_rate 0.00001\n",
        "* Mit Dropout 0,1\n",
        "\n",
        "Hier wurde bereits der Beste Score in den Versuche erreicht mit einem Kaggel Platz bei 275. Es wurde danach noch probiert an den Hyperparamtern zu experimentieren allerdings lieferten alle nur schlechtere Ergebnisse.\n",
        "\n",
        "Kaggel Score von 0.81918 bei:\n",
        "\n",
        "* 5 Epochen\n",
        "* Validation Split 0.2\n",
        "* Batchsize 32\n",
        "* learning_rate 0.00001\n",
        "* Mit Dropout 0,3\n",
        "\n",
        "Kaggel Score von 0.81765 bei:\n",
        "\n",
        "* 5 Epochen\n",
        "* Validation Split 0.2\n",
        "* Batchsize 32\n",
        "* learning_rate 0.000001\n",
        "* Mit Dropout 0,1\n",
        "\n",
        "Kaggel Score von 0.81550 bei:\n",
        "\n",
        "* 10 Epochen\n",
        "* Validation Split 0.2\n",
        "* Batchsize 32\n",
        "* learning_rate 0.0000005\n",
        "* Mit Dropout 0,1\n",
        "\n",
        "Alle Scores liegen dabei recht eng beisammen, so dass man nicht definitiv sagen kann, dass die Änderungen der Hyperparamter einen großen Einfluss auf das Endergebniss hatten. So ist durchaus möglich das der Beste erreichte Score von 0.82929 durch etwas Glück erreicht worden ist.\n",
        "\n",
        "Insgesamt wurden die besten Ergebnisse mit BERT erreicht. Der Unterschied zwischen BERT und den simpleren Modellen ist allerdings nicht sonderlich groß, da der beste Score mit Naive Bayes von 0.79436 nur ca. 0.03 vom besten BERT Score entfernt ist"
      ]
    }
  ]
}